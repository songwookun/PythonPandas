{
 "cells": [
  {
   "cell_type": "markdown",
   "id": "6acd1eb2",
   "metadata": {},
   "source": [
    "# 10. DataFrame 활용"
   ]
  },
  {
   "cell_type": "code",
   "execution_count": 9,
   "id": "bdd1fad1",
   "metadata": {},
   "outputs": [],
   "source": [
    "import pandas as pd"
   ]
  },
  {
   "cell_type": "code",
   "execution_count": 10,
   "id": "676c8bee",
   "metadata": {},
   "outputs": [],
   "source": [
    "import matplotlib.pyplot as plt\n",
    "import matplotlib\n",
    "#matplotlib.rcParams['font.family'] = 'Malgun Gothic' # Windows\n",
    "matplotlib.rcParams['font.family'] = 'AppleGothic' # macOS\n",
    "matplotlib.rcParams['font.size'] = 15 # 글자 크기 변경\n",
    "matplotlib.rcParams['axes.unicode_minus'] = False # 한글 폰트 사용 시, 마이너스 글자 깨지는 현상 해결"
   ]
  },
  {
   "cell_type": "code",
   "execution_count": 12,
   "id": "05f98f5a",
   "metadata": {},
   "outputs": [
    {
     "data": {
      "text/html": [
       "<div>\n",
       "<style scoped>\n",
       "    .dataframe tbody tr th:only-of-type {\n",
       "        vertical-align: middle;\n",
       "    }\n",
       "\n",
       "    .dataframe tbody tr th {\n",
       "        vertical-align: top;\n",
       "    }\n",
       "\n",
       "    .dataframe thead th {\n",
       "        text-align: right;\n",
       "    }\n",
       "</style>\n",
       "<table border=\"1\" class=\"dataframe\">\n",
       "  <thead>\n",
       "    <tr style=\"text-align: right;\">\n",
       "      <th></th>\n",
       "      <th>지원번호</th>\n",
       "      <th>이름</th>\n",
       "      <th>학교</th>\n",
       "      <th>키</th>\n",
       "      <th>포지션</th>\n",
       "      <th>득점</th>\n",
       "      <th>리바운드</th>\n",
       "      <th>어시스트</th>\n",
       "      <th>스틸</th>\n",
       "      <th>블록</th>\n",
       "    </tr>\n",
       "  </thead>\n",
       "  <tbody>\n",
       "    <tr>\n",
       "      <th>0</th>\n",
       "      <td>1번</td>\n",
       "      <td>채치수</td>\n",
       "      <td>북산고</td>\n",
       "      <td>197</td>\n",
       "      <td>PF</td>\n",
       "      <td>70</td>\n",
       "      <td>11</td>\n",
       "      <td>10</td>\n",
       "      <td>2</td>\n",
       "      <td>1</td>\n",
       "    </tr>\n",
       "    <tr>\n",
       "      <th>1</th>\n",
       "      <td>2번</td>\n",
       "      <td>정대만</td>\n",
       "      <td>북산고</td>\n",
       "      <td>184</td>\n",
       "      <td>C</td>\n",
       "      <td>45</td>\n",
       "      <td>10</td>\n",
       "      <td>7</td>\n",
       "      <td>9</td>\n",
       "      <td>13</td>\n",
       "    </tr>\n",
       "    <tr>\n",
       "      <th>2</th>\n",
       "      <td>3번</td>\n",
       "      <td>송태섭</td>\n",
       "      <td>북산고</td>\n",
       "      <td>168</td>\n",
       "      <td>PG</td>\n",
       "      <td>37</td>\n",
       "      <td>5</td>\n",
       "      <td>7</td>\n",
       "      <td>4</td>\n",
       "      <td>4</td>\n",
       "    </tr>\n",
       "    <tr>\n",
       "      <th>3</th>\n",
       "      <td>4번</td>\n",
       "      <td>서태웅</td>\n",
       "      <td>북산고</td>\n",
       "      <td>187</td>\n",
       "      <td>SG</td>\n",
       "      <td>101</td>\n",
       "      <td>9</td>\n",
       "      <td>6</td>\n",
       "      <td>3</td>\n",
       "      <td>1</td>\n",
       "    </tr>\n",
       "    <tr>\n",
       "      <th>4</th>\n",
       "      <td>5번</td>\n",
       "      <td>강백호</td>\n",
       "      <td>북산고</td>\n",
       "      <td>188</td>\n",
       "      <td>SF</td>\n",
       "      <td>49</td>\n",
       "      <td>0</td>\n",
       "      <td>17</td>\n",
       "      <td>12</td>\n",
       "      <td>4</td>\n",
       "    </tr>\n",
       "    <tr>\n",
       "      <th>5</th>\n",
       "      <td>6번</td>\n",
       "      <td>변덕규</td>\n",
       "      <td>능남고</td>\n",
       "      <td>202</td>\n",
       "      <td>PF</td>\n",
       "      <td>72</td>\n",
       "      <td>19</td>\n",
       "      <td>8</td>\n",
       "      <td>1</td>\n",
       "      <td>19</td>\n",
       "    </tr>\n",
       "    <tr>\n",
       "      <th>6</th>\n",
       "      <td>7번</td>\n",
       "      <td>황태산</td>\n",
       "      <td>능남고</td>\n",
       "      <td>188</td>\n",
       "      <td>C</td>\n",
       "      <td>68</td>\n",
       "      <td>26</td>\n",
       "      <td>14</td>\n",
       "      <td>2</td>\n",
       "      <td>15</td>\n",
       "    </tr>\n",
       "    <tr>\n",
       "      <th>7</th>\n",
       "      <td>8번</td>\n",
       "      <td>윤대협</td>\n",
       "      <td>능남고</td>\n",
       "      <td>190</td>\n",
       "      <td>PG</td>\n",
       "      <td>12</td>\n",
       "      <td>5</td>\n",
       "      <td>10</td>\n",
       "      <td>2</td>\n",
       "      <td>3</td>\n",
       "    </tr>\n",
       "  </tbody>\n",
       "</table>\n",
       "</div>"
      ],
      "text/plain": [
       "  지원번호   이름   학교    키 포지션   득점  리바운드  어시스트  스틸  블록\n",
       "0   1번  채치수  북산고  197  PF   70    11    10   2   1\n",
       "1   2번  정대만  북산고  184   C   45    10     7   9  13\n",
       "2   3번  송태섭  북산고  168  PG   37     5     7   4   4\n",
       "3   4번  서태웅  북산고  187  SG  101     9     6   3   1\n",
       "4   5번  강백호  북산고  188  SF   49     0    17  12   4\n",
       "5   6번  변덕규  능남고  202  PF   72    19     8   1  19\n",
       "6   7번  황태산  능남고  188   C   68    26    14   2  15\n",
       "7   8번  윤대협  능남고  190  PG   12     5    10   2   3"
      ]
     },
     "execution_count": 12,
     "metadata": {},
     "output_type": "execute_result"
    }
   ],
   "source": [
    "df = pd.read_excel('../Pandas/score.xlsx')\n",
    "df"
   ]
  },
  {
   "cell_type": "code",
   "execution_count": null,
   "id": "7ca92f5e",
   "metadata": {},
   "outputs": [],
   "source": [
    "plt.plot(df['지원번호'], df['키']) #지원 번호 별로 키 그래프"
   ]
  },
  {
   "cell_type": "code",
   "execution_count": null,
   "id": "e8a993e1",
   "metadata": {},
   "outputs": [],
   "source": [
    "plt.plot(df['지원번호'], df['득점']) #먼저 사용한게 파란색 지원 번호 별로 득점 그래프\n",
    "plt.plot(df['지원번호'], df['리바운드'])"
   ]
  },
  {
   "cell_type": "code",
   "execution_count": null,
   "id": "ce467258",
   "metadata": {},
   "outputs": [],
   "source": [
    "plt.plot(df['지원번호'], df['득점'])\n",
    "plt.plot(df['지원번호'], df['리바운드'])\n",
    "\n",
    "plt.grid() #격자 생성 상대적으로 보기 쉽다"
   ]
  },
  {
   "cell_type": "code",
   "execution_count": null,
   "id": "55bcae1e",
   "metadata": {},
   "outputs": [],
   "source": [
    "plt.plot(df['지원번호'], df['득점'])\n",
    "plt.plot(df['지원번호'], df['리바운드'])\n",
    "\n",
    "plt.grid(axis='y', color = 'red', alpha = 0.2, linestyle = '--', linewidth=2) # 격자 변경가능"
   ]
  }
 ],
 "metadata": {
  "kernelspec": {
   "display_name": "Python 3",
   "language": "python",
   "name": "python3"
  },
  "language_info": {
   "codemirror_mode": {
    "name": "ipython",
    "version": 3
   },
   "file_extension": ".py",
   "mimetype": "text/x-python",
   "name": "python",
   "nbconvert_exporter": "python",
   "pygments_lexer": "ipython3",
   "version": "3.13.7"
  }
 },
 "nbformat": 4,
 "nbformat_minor": 5
}
